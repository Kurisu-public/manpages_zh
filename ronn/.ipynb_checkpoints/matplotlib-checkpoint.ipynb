{
 "metadata": {
  "name": "",
  "signature": "sha256:795e8451f17d55dc0d27d90dd7603e4550792daa68e108fa95cb09a7e84671b9"
 },
 "nbformat": 3,
 "nbformat_minor": 0,
 "worksheets": []
}